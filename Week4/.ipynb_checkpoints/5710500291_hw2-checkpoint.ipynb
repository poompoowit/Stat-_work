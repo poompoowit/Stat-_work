{
 "cells": [
  {
   "cell_type": "code",
   "execution_count": 2,
   "metadata": {},
   "outputs": [],
   "source": [
    "import pandas as pd\n",
    "import os\n",
    "os.chdir('C:\\\\Users\\\\poomp\\\\Jupyter\\\\Stat_work\\\\Week4')"
   ]
  },
  {
   "cell_type": "code",
   "execution_count": 3,
   "metadata": {},
   "outputs": [],
   "source": [
    "df = pd.read_csv('hw2_data.csv', sep = ',', header = 'infer')\n"
   ]
  },
  {
   "cell_type": "code",
   "execution_count": 4,
   "metadata": {},
   "outputs": [],
   "source": [
    "book_1 = df['1'].values.tolist()\n",
    "book_2 = df['2'].values.tolist()\n",
    "book_3 = df['3'].values.tolist()\n",
    "book_4 = df['4'].values.tolist()\n",
    "book_5 = df['5'].values.tolist() "
   ]
  },
  {
   "cell_type": "code",
   "execution_count": 5,
   "metadata": {},
   "outputs": [],
   "source": [
    "data = []\n",
    "for i in range(5):\n",
    "    index_str = str(i+1)\n",
    "    ar = df[index_str].values.tolist()\n",
    "    buf = []\n",
    "    for x in ar:\n",
    "        x = float(x)\n",
    "        buf.append(x)\n",
    "    data.append(buf)\n"
   ]
  },
  {
   "cell_type": "code",
   "execution_count": 6,
   "metadata": {},
   "outputs": [],
   "source": [
    "def find_hypothesis_testing(matrix):\n",
    "    row = len(matrix)\n",
    "    col = 0\n",
    "    multotal = False\n",
    "    total = []\n",
    "    sample_size = []\n",
    "    for i in range(len(matrix)):\n",
    "        col = len(matrix[i])\n",
    "        sample_size.append(sum(matrix[i]))\n",
    "        if not multotal:\n",
    "            total = [0]*len(matrix[i])\n",
    "            multotal = True\n",
    "        for j in range(len(matrix[i])):\n",
    "            total[j] += matrix[i][j]\n",
    "    \n",
    "    all_total = sum(total)\n",
    "    \n",
    "    expected = []\n",
    "    for i in range(row):\n",
    "        buf = []\n",
    "        for j in range(col):\n",
    "            buf.append(sample_size[i]*total[j]/all_total)\n",
    "        expected.append(buf)\n",
    "    \n",
    "    test_statistic = 0\n",
    "    for i in range(row):\n",
    "        for j in range(col):\n",
    "            n = matrix[i][j]\n",
    "            e = expected[i][j]\n",
    "            test_statistic += ((n-e)**2)/e\n",
    "    return test_statistic"
   ]
  },
  {
   "cell_type": "code",
   "execution_count": 7,
   "metadata": {},
   "outputs": [],
   "source": [
    "n = 5\n",
    "hypothesis_testing = {}\n",
    "for i in range(n):\n",
    "    for j in range(i+1,n):\n",
    "        for k in range(j+1,n):\n",
    "            matrix = []\n",
    "            matrix.append(data[i])\n",
    "            matrix.append(data[j])\n",
    "            matrix.append(data[k])\n",
    "            key_str = 'book ('+ str(i+1) + ',' + str(j+1) + ',' + str(k+1)+')'\n",
    "            hypothesis_testing[key_str] = find_hypothesis_testing(matrix)"
   ]
  },
  {
   "cell_type": "code",
   "execution_count": 7,
   "metadata": {},
   "outputs": [
    {
     "data": {
      "text/plain": [
       "[('book (1,3,5)', 21.547551022073772),\n",
       " ('book (1,4,5)', 60.235806052750135),\n",
       " ('book (1,3,4)', 65.06295777042068),\n",
       " ('book (3,4,5)', 67.02117679521638),\n",
       " ('book (2,3,5)', 85.96674385412292),\n",
       " ('book (1,2,5)', 89.18875868486013),\n",
       " ('book (1,2,3)', 91.39817504264612),\n",
       " ('book (1,2,4)', 128.03684147114046),\n",
       " ('book (2,3,4)', 129.24602013928717),\n",
       " ('book (2,4,5)', 133.51220852295947)]"
      ]
     },
     "execution_count": 7,
     "metadata": {},
     "output_type": "execute_result"
    }
   ],
   "source": [
    "import operator\n",
    "sorted_hypothesis_testing = sorted(hypothesis_testing.items(), key=operator.itemgetter(1))\n",
    "sorted_hypothesis_testing"
   ]
  },
  {
   "cell_type": "code",
   "execution_count": null,
   "metadata": {},
   "outputs": [],
   "source": []
  }
 ],
 "metadata": {
  "kernelspec": {
   "display_name": "Python 3",
   "language": "python",
   "name": "python3"
  },
  "language_info": {
   "codemirror_mode": {
    "name": "ipython",
    "version": 3
   },
   "file_extension": ".py",
   "mimetype": "text/x-python",
   "name": "python",
   "nbconvert_exporter": "python",
   "pygments_lexer": "ipython3",
   "version": "3.5.4"
  }
 },
 "nbformat": 4,
 "nbformat_minor": 2
}
